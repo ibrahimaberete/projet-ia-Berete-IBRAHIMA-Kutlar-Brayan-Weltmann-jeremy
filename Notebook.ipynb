{
 "cells": [
  {
   "cell_type": "code",
   "execution_count": 5,
   "metadata": {},
   "outputs": [
    {
     "name": "stdout",
     "output_type": "stream",
     "text": [
      "<class 'list'>\n",
      "[[0, 2, 4, 4, 5, 6, 7, 5]]\n"
     ]
    },
    {
     "name": "stderr",
     "output_type": "stream",
     "text": [
      "/Users/ibrahimaberete/anaconda3/lib/python3.11/site-packages/sklearn/base.py:464: UserWarning: X does not have valid feature names, but LinearRegression was fitted with feature names\n",
      "  warnings.warn(\n"
     ]
    },
    {
     "data": {
      "text/plain": [
       "{'predictions': '[0.37117697]'}"
      ]
     },
     "execution_count": 5,
     "metadata": {},
     "output_type": "execute_result"
    }
   ],
   "source": [
    "import pickle \n",
    "import numpy as np\n",
    "# Load model with pickle\n",
    "with open('models/model.pkl', 'rb') as model_file:\n",
    "    trained_model = pickle.load(model_file)\n",
    "result = [[0,2,4,4,5,6,7,5]]   \n",
    "# Your prediction logic here using trained_model\n",
    "print(type(result))\n",
    "print(result)\n",
    "predictions = trained_model.predict(np.array(result))\n",
    "{\"predictions\": str(predictions)}"
   ]
  }
 ],
 "metadata": {
  "kernelspec": {
   "display_name": "base",
   "language": "python",
   "name": "python3"
  },
  "language_info": {
   "codemirror_mode": {
    "name": "ipython",
    "version": 3
   },
   "file_extension": ".py",
   "mimetype": "text/x-python",
   "name": "python",
   "nbconvert_exporter": "python",
   "pygments_lexer": "ipython3",
   "version": "3.11.5"
  }
 },
 "nbformat": 4,
 "nbformat_minor": 2
}
